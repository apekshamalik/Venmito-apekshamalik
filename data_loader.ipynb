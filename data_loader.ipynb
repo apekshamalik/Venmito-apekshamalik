{
 "cells": [
  {
   "cell_type": "markdown",
   "metadata": {},
   "source": [
    "# Data loader"
   ]
  },
  {
   "cell_type": "markdown",
   "metadata": {},
   "source": [
    "# Loading CSV, XML, YML, and JSON data"
   ]
  },
  {
   "cell_type": "code",
   "execution_count": 1,
   "metadata": {},
   "outputs": [],
   "source": [
    "import pandas as pd\n",
    "import yaml\n",
    "import json\n",
    "import xml.etree.ElementTree as ET"
   ]
  },
  {
   "cell_type": "markdown",
   "metadata": {},
   "source": [
    "# YAML Loader"
   ]
  },
  {
   "cell_type": "code",
   "execution_count": 2,
   "metadata": {},
   "outputs": [],
   "source": [
    "def load_yaml(file_path):\n",
    "    \"\"\"Loads data from a YAML file into a Pandas DataFrame.\"\"\"\n",
    "    with open(file_path, \"r\") as file:\n",
    "        data = yaml.safe_load(file)\n",
    "    return pd.DataFrame(data)\n"
   ]
  },
  {
   "cell_type": "markdown",
   "metadata": {},
   "source": [
    "# Load and display YAML dataframe"
   ]
  },
  {
   "cell_type": "code",
   "execution_count": 3,
   "metadata": {},
   "outputs": [
    {
     "data": {
      "text/html": [
       "<div>\n",
       "<style scoped>\n",
       "    .dataframe tbody tr th:only-of-type {\n",
       "        vertical-align: middle;\n",
       "    }\n",
       "\n",
       "    .dataframe tbody tr th {\n",
       "        vertical-align: top;\n",
       "    }\n",
       "\n",
       "    .dataframe thead th {\n",
       "        text-align: right;\n",
       "    }\n",
       "</style>\n",
       "<table border=\"1\" class=\"dataframe\">\n",
       "  <thead>\n",
       "    <tr style=\"text-align: right;\">\n",
       "      <th></th>\n",
       "      <th>Android</th>\n",
       "      <th>Desktop</th>\n",
       "      <th>Iphone</th>\n",
       "      <th>city</th>\n",
       "      <th>email</th>\n",
       "      <th>id</th>\n",
       "      <th>name</th>\n",
       "      <th>phone</th>\n",
       "    </tr>\n",
       "  </thead>\n",
       "  <tbody>\n",
       "    <tr>\n",
       "      <th>0</th>\n",
       "      <td>1</td>\n",
       "      <td>0</td>\n",
       "      <td>0</td>\n",
       "      <td>Montreal, Canada</td>\n",
       "      <td>Jamie.Bright@example.com</td>\n",
       "      <td>1</td>\n",
       "      <td>Jamie Bright</td>\n",
       "      <td>533-849-3913</td>\n",
       "    </tr>\n",
       "    <tr>\n",
       "      <th>1</th>\n",
       "      <td>1</td>\n",
       "      <td>1</td>\n",
       "      <td>1</td>\n",
       "      <td>Toronto, Canada</td>\n",
       "      <td>Yusra.Fletcher@example.com</td>\n",
       "      <td>3</td>\n",
       "      <td>Yusra Fletcher</td>\n",
       "      <td>385-702-8874</td>\n",
       "    </tr>\n",
       "    <tr>\n",
       "      <th>2</th>\n",
       "      <td>1</td>\n",
       "      <td>0</td>\n",
       "      <td>0</td>\n",
       "      <td>Paris, France</td>\n",
       "      <td>Beatrix.Everett@example.com</td>\n",
       "      <td>5</td>\n",
       "      <td>Beatrix Everett</td>\n",
       "      <td>194-640-2758</td>\n",
       "    </tr>\n",
       "    <tr>\n",
       "      <th>3</th>\n",
       "      <td>1</td>\n",
       "      <td>0</td>\n",
       "      <td>0</td>\n",
       "      <td>Toronto, Canada</td>\n",
       "      <td>Asa.Vazquez@example.com</td>\n",
       "      <td>9</td>\n",
       "      <td>Asa Vazquez</td>\n",
       "      <td>504-421-4485</td>\n",
       "    </tr>\n",
       "    <tr>\n",
       "      <th>4</th>\n",
       "      <td>1</td>\n",
       "      <td>1</td>\n",
       "      <td>0</td>\n",
       "      <td>Toronto, Canada</td>\n",
       "      <td>Carmen.Burton@example.com</td>\n",
       "      <td>19</td>\n",
       "      <td>Carmen Burton</td>\n",
       "      <td>527-368-7429</td>\n",
       "    </tr>\n",
       "  </tbody>\n",
       "</table>\n",
       "</div>"
      ],
      "text/plain": [
       "   Android  Desktop  Iphone              city                        email  \\\n",
       "0        1        0       0  Montreal, Canada     Jamie.Bright@example.com   \n",
       "1        1        1       1   Toronto, Canada   Yusra.Fletcher@example.com   \n",
       "2        1        0       0     Paris, France  Beatrix.Everett@example.com   \n",
       "3        1        0       0   Toronto, Canada      Asa.Vazquez@example.com   \n",
       "4        1        1       0   Toronto, Canada    Carmen.Burton@example.com   \n",
       "\n",
       "   id             name         phone  \n",
       "0   1     Jamie Bright  533-849-3913  \n",
       "1   3   Yusra Fletcher  385-702-8874  \n",
       "2   5  Beatrix Everett  194-640-2758  \n",
       "3   9      Asa Vazquez  504-421-4485  \n",
       "4  19    Carmen Burton  527-368-7429  "
      ]
     },
     "metadata": {},
     "output_type": "display_data"
    }
   ],
   "source": [
    "people_yml_df = load_yaml(\"data/people.yml\")\n",
    "display(people_yml_df.head())"
   ]
  },
  {
   "cell_type": "markdown",
   "metadata": {},
   "source": [
    "# JSON Loader"
   ]
  },
  {
   "cell_type": "code",
   "execution_count": 4,
   "metadata": {},
   "outputs": [],
   "source": [
    "def load_json(file_path):\n",
    "    \"\"\"Loads data from a JSON file into a Pandas DataFrame.\"\"\"\n",
    "    with open(file_path, \"r\") as file:\n",
    "        data = json.load(file)\n",
    "    return pd.DataFrame(data)"
   ]
  },
  {
   "cell_type": "markdown",
   "metadata": {},
   "source": [
    "# Load and display JSON dataframe"
   ]
  },
  {
   "cell_type": "code",
   "execution_count": 5,
   "metadata": {},
   "outputs": [
    {
     "data": {
      "text/html": [
       "<div>\n",
       "<style scoped>\n",
       "    .dataframe tbody tr th:only-of-type {\n",
       "        vertical-align: middle;\n",
       "    }\n",
       "\n",
       "    .dataframe tbody tr th {\n",
       "        vertical-align: top;\n",
       "    }\n",
       "\n",
       "    .dataframe thead th {\n",
       "        text-align: right;\n",
       "    }\n",
       "</style>\n",
       "<table border=\"1\" class=\"dataframe\">\n",
       "  <thead>\n",
       "    <tr style=\"text-align: right;\">\n",
       "      <th></th>\n",
       "      <th>id</th>\n",
       "      <th>first_name</th>\n",
       "      <th>last_name</th>\n",
       "      <th>telephone</th>\n",
       "      <th>email</th>\n",
       "      <th>devices</th>\n",
       "      <th>location</th>\n",
       "    </tr>\n",
       "  </thead>\n",
       "  <tbody>\n",
       "    <tr>\n",
       "      <th>0</th>\n",
       "      <td>0001</td>\n",
       "      <td>Jamie</td>\n",
       "      <td>Bright</td>\n",
       "      <td>533-849-3913</td>\n",
       "      <td>Jamie.Bright@example.com</td>\n",
       "      <td>[Android]</td>\n",
       "      <td>{'City': 'Montreal', 'Country': 'Canada'}</td>\n",
       "    </tr>\n",
       "    <tr>\n",
       "      <th>1</th>\n",
       "      <td>0002</td>\n",
       "      <td>Arabella</td>\n",
       "      <td>Knox</td>\n",
       "      <td>652-272-9539</td>\n",
       "      <td>Arabella.Knox@example.com</td>\n",
       "      <td>[Android, Iphone]</td>\n",
       "      <td>{'City': 'Los Angeles', 'Country': 'USA'}</td>\n",
       "    </tr>\n",
       "    <tr>\n",
       "      <th>2</th>\n",
       "      <td>0003</td>\n",
       "      <td>Yusra</td>\n",
       "      <td>Fletcher</td>\n",
       "      <td>385-702-8874</td>\n",
       "      <td>Yusra.Fletcher@example.com</td>\n",
       "      <td>[Android, Iphone, Desktop]</td>\n",
       "      <td>{'City': 'Toronto', 'Country': 'Canada'}</td>\n",
       "    </tr>\n",
       "    <tr>\n",
       "      <th>3</th>\n",
       "      <td>0004</td>\n",
       "      <td>Esme</td>\n",
       "      <td>Nielsen</td>\n",
       "      <td>621-797-5367</td>\n",
       "      <td>Esme.Nielsen@example.com</td>\n",
       "      <td>[Android, Iphone]</td>\n",
       "      <td>{'City': 'Los Angeles', 'Country': 'USA'}</td>\n",
       "    </tr>\n",
       "    <tr>\n",
       "      <th>4</th>\n",
       "      <td>0006</td>\n",
       "      <td>Dean</td>\n",
       "      <td>Lewis</td>\n",
       "      <td>243-955-3782</td>\n",
       "      <td>Dean.Lewis@example.com</td>\n",
       "      <td>[Android, Iphone, Desktop]</td>\n",
       "      <td>{'City': 'San Diego', 'Country': 'USA'}</td>\n",
       "    </tr>\n",
       "  </tbody>\n",
       "</table>\n",
       "</div>"
      ],
      "text/plain": [
       "     id first_name last_name     telephone                       email  \\\n",
       "0  0001      Jamie    Bright  533-849-3913    Jamie.Bright@example.com   \n",
       "1  0002   Arabella      Knox  652-272-9539   Arabella.Knox@example.com   \n",
       "2  0003      Yusra  Fletcher  385-702-8874  Yusra.Fletcher@example.com   \n",
       "3  0004       Esme   Nielsen  621-797-5367    Esme.Nielsen@example.com   \n",
       "4  0006       Dean     Lewis  243-955-3782      Dean.Lewis@example.com   \n",
       "\n",
       "                      devices                                   location  \n",
       "0                   [Android]  {'City': 'Montreal', 'Country': 'Canada'}  \n",
       "1           [Android, Iphone]  {'City': 'Los Angeles', 'Country': 'USA'}  \n",
       "2  [Android, Iphone, Desktop]   {'City': 'Toronto', 'Country': 'Canada'}  \n",
       "3           [Android, Iphone]  {'City': 'Los Angeles', 'Country': 'USA'}  \n",
       "4  [Android, Iphone, Desktop]    {'City': 'San Diego', 'Country': 'USA'}  "
      ]
     },
     "metadata": {},
     "output_type": "display_data"
    }
   ],
   "source": [
    "people_json_df = load_json(\"data/people.json\")\n",
    "display(people_json_df.head())"
   ]
  },
  {
   "cell_type": "markdown",
   "metadata": {},
   "source": [
    "# CSV Loader"
   ]
  },
  {
   "cell_type": "code",
   "execution_count": 6,
   "metadata": {},
   "outputs": [],
   "source": [
    "def load_csv(file_path):\n",
    "    \"\"\"Loads data from a CSV file into a Pandas DataFrame.\"\"\"\n",
    "    return pd.read_csv(file_path)"
   ]
  },
  {
   "cell_type": "markdown",
   "metadata": {},
   "source": [
    "# Load and display CSV datafme"
   ]
  },
  {
   "cell_type": "code",
   "execution_count": 7,
   "metadata": {},
   "outputs": [
    {
     "data": {
      "text/html": [
       "<div>\n",
       "<style scoped>\n",
       "    .dataframe tbody tr th:only-of-type {\n",
       "        vertical-align: middle;\n",
       "    }\n",
       "\n",
       "    .dataframe tbody tr th {\n",
       "        vertical-align: top;\n",
       "    }\n",
       "\n",
       "    .dataframe thead th {\n",
       "        text-align: right;\n",
       "    }\n",
       "</style>\n",
       "<table border=\"1\" class=\"dataframe\">\n",
       "  <thead>\n",
       "    <tr style=\"text-align: right;\">\n",
       "      <th></th>\n",
       "      <th>sender_id</th>\n",
       "      <th>recipient_id</th>\n",
       "      <th>amount</th>\n",
       "      <th>date</th>\n",
       "    </tr>\n",
       "  </thead>\n",
       "  <tbody>\n",
       "    <tr>\n",
       "      <th>0</th>\n",
       "      <td>926</td>\n",
       "      <td>531</td>\n",
       "      <td>70.47</td>\n",
       "      <td>2022-01-07</td>\n",
       "    </tr>\n",
       "    <tr>\n",
       "      <th>1</th>\n",
       "      <td>280</td>\n",
       "      <td>735</td>\n",
       "      <td>21.88</td>\n",
       "      <td>2022-01-10</td>\n",
       "    </tr>\n",
       "    <tr>\n",
       "      <th>2</th>\n",
       "      <td>571</td>\n",
       "      <td>737</td>\n",
       "      <td>44.68</td>\n",
       "      <td>2022-01-13</td>\n",
       "    </tr>\n",
       "    <tr>\n",
       "      <th>3</th>\n",
       "      <td>958</td>\n",
       "      <td>945</td>\n",
       "      <td>39.94</td>\n",
       "      <td>2022-01-17</td>\n",
       "    </tr>\n",
       "    <tr>\n",
       "      <th>4</th>\n",
       "      <td>373</td>\n",
       "      <td>817</td>\n",
       "      <td>6.98</td>\n",
       "      <td>2022-01-17</td>\n",
       "    </tr>\n",
       "  </tbody>\n",
       "</table>\n",
       "</div>"
      ],
      "text/plain": [
       "   sender_id  recipient_id  amount        date\n",
       "0        926           531   70.47  2022-01-07\n",
       "1        280           735   21.88  2022-01-10\n",
       "2        571           737   44.68  2022-01-13\n",
       "3        958           945   39.94  2022-01-17\n",
       "4        373           817    6.98  2022-01-17"
      ]
     },
     "metadata": {},
     "output_type": "display_data"
    }
   ],
   "source": [
    "transfers_df = load_csv(\"data/transfers.csv\")\n",
    "display(transfers_df.head())"
   ]
  },
  {
   "cell_type": "markdown",
   "metadata": {},
   "source": [
    "# XML Transactions Parser"
   ]
  },
  {
   "cell_type": "markdown",
   "metadata": {},
   "source": [
    "# Nested elements and structure of XML requires iteration to structure items in transaction into list"
   ]
  },
  {
   "cell_type": "code",
   "execution_count": 8,
   "metadata": {},
   "outputs": [],
   "source": [
    "def parse_transactions_xml(file_path):\n",
    "    \"\"\"Parses transaction data from an XML file into a Pandas DataFrame.\"\"\"\n",
    "    try:\n",
    "        tree = ET.parse(file_path)\n",
    "        root = tree.getroot()\n",
    "        transactions = []\n",
    "\n",
    "        for transaction in root.findall(\"transaction\"):\n",
    "            transaction_data = {\n",
    "                \"id\": transaction.attrib.get(\"id\"),\n",
    "                \"phone\": transaction.find(\"phone\").text if transaction.find(\"phone\") is not None else None,\n",
    "                \"store\": transaction.find(\"store\").text if transaction.find(\"store\") is not None else None\n",
    "            }\n",
    "        # Extract items as a list\n",
    "            items_list = []\n",
    "            items_tag = transaction.find(\"items\")\n",
    "            if items_tag is not None:\n",
    "                for item in items_tag.findall(\"item\"):\n",
    "                    item_name_tag = item.find(\"item\")\n",
    "                    item_name = item_name_tag.text if item_name_tag is not None else \"Unknown\"\n",
    "                    quantity_tag = item.find(\"quantity\")\n",
    "                    quantity = quantity_tag.text if quantity_tag is not None else \"1\"\n",
    "                    items_list.append(f\"{item_name} (x{quantity})\")\n",
    "\n",
    "            transaction_data[\"items\"] = items_list\n",
    "            transactions.append(transaction_data)\n",
    "\n",
    "        df = pd.DataFrame(transactions)\n",
    "        df[\"items\"] = df[\"items\"].apply(lambda x: x if isinstance(x, list) else [])\n",
    "        return df\n",
    "\n",
    "    except Exception as e:\n",
    "        print(f\"❌ Error parsing transactions XML: {e}\")\n",
    "        return None"
   ]
  },
  {
   "cell_type": "markdown",
   "metadata": {},
   "source": [
    "# Load and display XML dataframe"
   ]
  },
  {
   "cell_type": "code",
   "execution_count": 9,
   "metadata": {},
   "outputs": [
    {
     "data": {
      "text/html": [
       "<div>\n",
       "<style scoped>\n",
       "    .dataframe tbody tr th:only-of-type {\n",
       "        vertical-align: middle;\n",
       "    }\n",
       "\n",
       "    .dataframe tbody tr th {\n",
       "        vertical-align: top;\n",
       "    }\n",
       "\n",
       "    .dataframe thead th {\n",
       "        text-align: right;\n",
       "    }\n",
       "</style>\n",
       "<table border=\"1\" class=\"dataframe\">\n",
       "  <thead>\n",
       "    <tr style=\"text-align: right;\">\n",
       "      <th></th>\n",
       "      <th>id</th>\n",
       "      <th>phone</th>\n",
       "      <th>store</th>\n",
       "      <th>items</th>\n",
       "    </tr>\n",
       "  </thead>\n",
       "  <tbody>\n",
       "    <tr>\n",
       "      <th>0</th>\n",
       "      <td>1000</td>\n",
       "      <td>233-159-4158</td>\n",
       "      <td>Trader Tales</td>\n",
       "      <td>[Krafty Cheddar (x1), Popsi (x1), Oreoz (x2)]</td>\n",
       "    </tr>\n",
       "    <tr>\n",
       "      <th>1</th>\n",
       "      <td>1001</td>\n",
       "      <td>725-427-2794</td>\n",
       "      <td>PetPals Mart</td>\n",
       "      <td>[Colgatex (x1)]</td>\n",
       "    </tr>\n",
       "    <tr>\n",
       "      <th>2</th>\n",
       "      <td>1002</td>\n",
       "      <td>659-190-9378</td>\n",
       "      <td>Trader Tales</td>\n",
       "      <td>[Colgatex (x1), Dovee (x1), Flixnet (x1)]</td>\n",
       "    </tr>\n",
       "    <tr>\n",
       "      <th>3</th>\n",
       "      <td>1003</td>\n",
       "      <td>334-436-6254</td>\n",
       "      <td>Urban Outfitters Loft</td>\n",
       "      <td>[Krafty Cheddar (x2), RedCow (x1), Dovee (x2)]</td>\n",
       "    </tr>\n",
       "    <tr>\n",
       "      <th>4</th>\n",
       "      <td>1004</td>\n",
       "      <td>615-102-4849</td>\n",
       "      <td>PetPals Mart</td>\n",
       "      <td>[Popsi (x1), Flixnet (x1)]</td>\n",
       "    </tr>\n",
       "  </tbody>\n",
       "</table>\n",
       "</div>"
      ],
      "text/plain": [
       "     id         phone                  store  \\\n",
       "0  1000  233-159-4158           Trader Tales   \n",
       "1  1001  725-427-2794           PetPals Mart   \n",
       "2  1002  659-190-9378           Trader Tales   \n",
       "3  1003  334-436-6254  Urban Outfitters Loft   \n",
       "4  1004  615-102-4849           PetPals Mart   \n",
       "\n",
       "                                            items  \n",
       "0   [Krafty Cheddar (x1), Popsi (x1), Oreoz (x2)]  \n",
       "1                                 [Colgatex (x1)]  \n",
       "2       [Colgatex (x1), Dovee (x1), Flixnet (x1)]  \n",
       "3  [Krafty Cheddar (x2), RedCow (x1), Dovee (x2)]  \n",
       "4                      [Popsi (x1), Flixnet (x1)]  "
      ]
     },
     "metadata": {},
     "output_type": "display_data"
    }
   ],
   "source": [
    "transactions_df = parse_transactions_xml(\"data/transactions.xml\")\n",
    "display(transactions_df.head())"
   ]
  },
  {
   "cell_type": "code",
   "execution_count": 12,
   "metadata": {},
   "outputs": [
    {
     "name": "stdout",
     "output_type": "stream",
     "text": [
      "[NbConvertApp] Converting notebook data_loader.ipynb to script\n",
      "[NbConvertApp] Writing 2954 bytes to data_loader.py\n"
     ]
    }
   ],
   "source": [
    "!jupyter nbconvert --to script data_loader.ipynb"
   ]
  }
 ],
 "metadata": {
  "kernelspec": {
   "display_name": "venv",
   "language": "python",
   "name": "python3"
  },
  "language_info": {
   "codemirror_mode": {
    "name": "ipython",
    "version": 3
   },
   "file_extension": ".py",
   "mimetype": "text/x-python",
   "name": "python",
   "nbconvert_exporter": "python",
   "pygments_lexer": "ipython3",
   "version": "3.12.8"
  }
 },
 "nbformat": 4,
 "nbformat_minor": 2
}
