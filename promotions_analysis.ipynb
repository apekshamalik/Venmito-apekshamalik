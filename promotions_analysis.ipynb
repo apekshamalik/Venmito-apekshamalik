{
 "cells": [
  {
   "cell_type": "markdown",
   "metadata": {},
   "source": [
    "# Promotion Analysis"
   ]
  },
  {
   "cell_type": "code",
   "execution_count": null,
   "metadata": {},
   "outputs": [
    {
     "ename": "",
     "evalue": "",
     "output_type": "error",
     "traceback": [
      "\u001b[1;31mFailed to start the Kernel. \n",
      "\u001b[1;31mUnable to start Kernel '.venv (Python 3.12.8)' due to a timeout waiting for the ports to get used. \n",
      "\u001b[1;31mView Jupyter <a href='command:jupyter.viewOutput'>log</a> for further details."
     ]
    }
   ],
   "source": [
    "import pandas as pd\n",
    "import matplotlib.pyplot as plt\n",
    "import seaborn as sns\n",
    "import ipywidgets as widgets\n",
    "from IPython.display import display\n"
   ]
  },
  {
   "cell_type": "code",
   "execution_count": null,
   "metadata": {},
   "outputs": [
    {
     "ename": "",
     "evalue": "",
     "output_type": "error",
     "traceback": [
      "\u001b[1;31mFailed to start the Kernel. \n",
      "\u001b[1;31mUnable to start Kernel '.venv (Python 3.12.8)' due to a timeout waiting for the ports to get used. \n",
      "\u001b[1;31mView Jupyter <a href='command:jupyter.viewOutput'>log</a> for further details."
     ]
    }
   ],
   "source": [
    "file_path = \"/Users/apeksha/Desktop/Xtillion_Venmito/Venmito-apekshamalik/output_data/promotions_(linked).csv\"\n",
    "promotions_df = pd.read_csv(file_path)"
   ]
  },
  {
   "cell_type": "code",
   "execution_count": null,
   "metadata": {},
   "outputs": [
    {
     "ename": "",
     "evalue": "",
     "output_type": "error",
     "traceback": [
      "\u001b[1;31mFailed to start the Kernel. \n",
      "\u001b[1;31mUnable to start Kernel '.venv (Python 3.12.8)' due to a timeout waiting for the ports to get used. \n",
      "\u001b[1;31mView Jupyter <a href='command:jupyter.viewOutput'>log</a> for further details."
     ]
    }
   ],
   "source": [
    "display(promotions_df.head())"
   ]
  },
  {
   "cell_type": "code",
   "execution_count": null,
   "metadata": {},
   "outputs": [
    {
     "ename": "",
     "evalue": "",
     "output_type": "error",
     "traceback": [
      "\u001b[1;31mFailed to start the Kernel. \n",
      "\u001b[1;31mUnable to start Kernel '.venv (Python 3.12.8)' due to a timeout waiting for the ports to get used. \n",
      "\u001b[1;31mView Jupyter <a href='command:jupyter.viewOutput'>log</a> for further details."
     ]
    }
   ],
   "source": [
    "total_responses = promotions_df.groupby('promotion')['responded'].count()\n",
    "\n",
    "# Count of Yes responses per promotion\n",
    "yes_responses = promotions_df[promotions_df['responded'] == 'Yes'].groupby('promotion')['responded'].count()\n",
    "\n",
    "# Percentage of Yes responses per promotion\n",
    "response_rate = (yes_responses / total_responses * 100).fillna(0)\n",
    "\n",
    "# Create summary DataFrame\n",
    "promotion_summary = pd.DataFrame({\n",
    "    'Total Responses': total_responses,\n",
    "    'Yes Responses': yes_responses.fillna(0).astype(int),\n",
    "    'Response Rate (%)': response_rate.round(2)\n",
    "}).reset_index()\n",
    "\n",
    "# Display table\n",
    "tools.display_dataframe_to_user(name=\"Promotion Performance Overview\", dataframe=promotion_summary)"
   ]
  },
  {
   "cell_type": "code",
   "execution_count": null,
   "metadata": {},
   "outputs": [
    {
     "ename": "",
     "evalue": "",
     "output_type": "error",
     "traceback": [
      "\u001b[1;31mFailed to start the Kernel. \n",
      "\u001b[1;31mUnable to start Kernel '.venv (Python 3.12.8)' due to a timeout waiting for the ports to get used. \n",
      "\u001b[1;31mView Jupyter <a href='command:jupyter.viewOutput'>log</a> for further details."
     ]
    }
   ],
   "source": [
    "## Distribution of Promotions"
   ]
  },
  {
   "cell_type": "code",
   "execution_count": null,
   "metadata": {},
   "outputs": [
    {
     "ename": "",
     "evalue": "",
     "output_type": "error",
     "traceback": [
      "\u001b[1;31mFailed to start the Kernel. \n",
      "\u001b[1;31mUnable to start Kernel '.venv (Python 3.12.8)' due to a timeout waiting for the ports to get used. \n",
      "\u001b[1;31mView Jupyter <a href='command:jupyter.viewOutput'>log</a> for further details."
     ]
    }
   ],
   "source": [
    "plt.figure(figsize=(10, 6))\n",
    "sns.countplot(y=promotions_df[\"promotion\"], palette=\"Blues_r\", order=promotions_df[\"promotion\"].value_counts().index)\n",
    "\n",
    "# Customize the plot\n",
    "plt.xlabel(\"Count\")\n",
    "plt.ylabel(\"Promotion Type\")\n",
    "plt.title(\"Distribution of Promotion Types\")\n",
    "plt.grid(axis=\"x\", linestyle=\"--\", alpha=0.7)\n",
    "\n",
    "# Show the plot"
   ]
  },
  {
   "cell_type": "markdown",
   "metadata": {},
   "source": [
    "## Promotion Acceptance Breakdown"
   ]
  },
  {
   "cell_type": "code",
   "execution_count": null,
   "metadata": {},
   "outputs": [
    {
     "ename": "",
     "evalue": "",
     "output_type": "error",
     "traceback": [
      "\u001b[1;31mFailed to start the Kernel. \n",
      "\u001b[1;31mUnable to start Kernel '.venv (Python 3.12.8)' due to a timeout waiting for the ports to get used. \n",
      "\u001b[1;31mView Jupyter <a href='command:jupyter.viewOutput'>log</a> for further details."
     ]
    }
   ],
   "source": [
    "# Plot\n",
    "\n",
    "# Sort promotions by total responses (sum of Yes and No)\n",
    "response_summary = promotions_df.groupby(['promotion', 'responded']).size().unstack()\n",
    "\n",
    "# Sort promotions by the number of \"Yes\" responses in ascending order\n",
    "response_summary = response_summary.sort_values(by=\"Yes\", ascending=True)\n",
    "\n",
    "# Plot\n",
    "response_summary.plot(kind='bar', stacked=True, figsize=(10, 5), colormap='viridis')\n",
    "plt.title(\"Responses to Promotions (Sorted by Yes Responses)\")\n",
    "plt.ylabel(\"Number of Responses\")\n",
    "plt.xlabel(\"Promotion Type\")\n",
    "plt.xticks(rotation=45)\n",
    "plt.legend(title=\"Response\", labels=[\"No\", \"Yes\"])\n",
    "plt.show()"
   ]
  },
  {
   "cell_type": "markdown",
   "metadata": {},
   "source": [
    "# Overview \n",
    "-- Distribution\n",
    "Popsi, Oreoz, and GatorBoost were the most widely distributed promotions.\n",
    "\n",
    "-- Responses\n",
    "Popsi and Oreoz had the highest acceptance rates, indicating strong customer interest.\n",
    "Krafty Cheddar had the lowest acceptance rate, with significantly more \"No\" responses.\n",
    "Promotions like Coca-Splash and KittyKat had mixed engagement, showing room for optimization."
   ]
  },
  {
   "cell_type": "markdown",
   "metadata": {},
   "source": [
    "# Promotion acceptances by country"
   ]
  },
  {
   "cell_type": "code",
   "execution_count": null,
   "metadata": {},
   "outputs": [
    {
     "ename": "",
     "evalue": "",
     "output_type": "error",
     "traceback": [
      "\u001b[1;31mFailed to start the Kernel. \n",
      "\u001b[1;31mUnable to start Kernel '.venv (Python 3.12.8)' due to a timeout waiting for the ports to get used. \n",
      "\u001b[1;31mView Jupyter <a href='command:jupyter.viewOutput'>log</a> for further details."
     ]
    }
   ],
   "source": [
    "promotions_df['response_numeric'] = promotions_df['responded'].map({'Yes': 1, 'No': 0})\n",
    "\n",
    "# Aggregate acceptance rate per country and promotion\n",
    "promotion_acceptance = promotions_df.groupby(['country', 'promotion'])['response_numeric'].mean().reset_index()\n",
    "\n",
    "# Dropdown for selecting a country\n",
    "country_dropdown = widgets.Dropdown(\n",
    "    options=promotions_df['country'].unique(),\n",
    "    description=\"Country\",\n",
    "    value=promotions_df['country'].unique()[0]  # Default selection\n",
    ")\n",
    "\n",
    "# Function to update the chart based on selection\n",
    "def update_chart(selected_country):\n",
    "    # Filter data for selected country\n",
    "    filtered_data = promotion_acceptance[promotion_acceptance['country'] == selected_country]\n",
    "\n",
    "    # Plot\n",
    "    plt.figure(figsize=(10, 5))\n",
    "    sns.barplot(x='promotion', y='response_numeric', data=filtered_data, palette='Set2')\n",
    "\n",
    "    plt.xlabel(\"Promotion Type\", fontsize=12)\n",
    "    plt.ylabel(\"Acceptance Rate (%)\", fontsize=12)\n",
    "    plt.title(f\"Promotion Acceptance Rate in {selected_country}\", fontsize=14, pad=20)  # Added padding to prevent overlap\n",
    "    plt.xticks(rotation=45, ha=\"right\")\n",
    "    plt.ylim(0, 1)\n",
    "\n",
    "    # Add percentage labels without overlapping title\n",
    "    for p in plt.gca().patches:\n",
    "        plt.text(p.get_x() + p.get_width()/2, p.get_height() + 0.03, f\"{p.get_height()*100:.1f}%\", \n",
    "                 ha='center', fontsize=10, fontweight='bold')\n",
    "\n",
    "    plt.tight_layout()  # Adjust layout to prevent overlapping\n",
    "    plt.show()\n",
    "\n",
    "# Create an interactive widget\n",
    "interactive_plot = widgets.interactive(update_chart, selected_country=country_dropdown)\n",
    "display(interactive_plot)"
   ]
  }
 ],
 "metadata": {
  "kernelspec": {
   "display_name": ".venv",
   "language": "python",
   "name": "python3"
  },
  "language_info": {
   "codemirror_mode": {
    "name": "ipython",
    "version": 3
   },
   "file_extension": ".py",
   "mimetype": "text/x-python",
   "name": "python",
   "nbconvert_exporter": "python",
   "pygments_lexer": "ipython3",
   "version": "3.12.8"
  }
 },
 "nbformat": 4,
 "nbformat_minor": 2
}
