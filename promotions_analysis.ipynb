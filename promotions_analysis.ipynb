{
 "cells": [
  {
   "cell_type": "markdown",
   "metadata": {},
   "source": [
    "# Promotion Analysis"
   ]
  },
  {
   "cell_type": "code",
   "execution_count": 26,
   "metadata": {},
   "outputs": [],
   "source": [
    "import pandas as pd\n",
    "import matplotlib.pyplot as plt\n",
    "import seaborn as sns\n",
    "import ipywidgets as widgets\n",
    "from IPython.display import display\n",
    "%matplotlib inline"
   ]
  },
  {
   "cell_type": "code",
   "execution_count": 18,
   "metadata": {},
   "outputs": [],
   "source": [
    "# file_path = \"/Users/apeksha/Desktop/Xtillion_Venmito/Venmito-apekshamalik/output_data/promotions_(linked).csv\"\n",
    "file_path = \"/Users/alipuccio/Desktop/apex/Venmito-apekshamalik/output_data/promotions_(linked).csv\"\n",
    "promotions_df = pd.read_csv(file_path)"
   ]
  },
  {
   "cell_type": "code",
   "execution_count": 19,
   "metadata": {},
   "outputs": [
    {
     "data": {
      "text/html": [
       "<div>\n",
       "<style scoped>\n",
       "    .dataframe tbody tr th:only-of-type {\n",
       "        vertical-align: middle;\n",
       "    }\n",
       "\n",
       "    .dataframe tbody tr th {\n",
       "        vertical-align: top;\n",
       "    }\n",
       "\n",
       "    .dataframe thead th {\n",
       "        text-align: right;\n",
       "    }\n",
       "</style>\n",
       "<table border=\"1\" class=\"dataframe\">\n",
       "  <thead>\n",
       "    <tr style=\"text-align: right;\">\n",
       "      <th></th>\n",
       "      <th>email</th>\n",
       "      <th>telephone_x</th>\n",
       "      <th>promotion</th>\n",
       "      <th>responded</th>\n",
       "      <th>telephone_y</th>\n",
       "      <th>first_name</th>\n",
       "      <th>last_name</th>\n",
       "      <th>city</th>\n",
       "      <th>country</th>\n",
       "      <th>id</th>\n",
       "    </tr>\n",
       "  </thead>\n",
       "  <tbody>\n",
       "    <tr>\n",
       "      <th>0</th>\n",
       "      <td>alessandro.french@example.com</td>\n",
       "      <td>216-516-1958</td>\n",
       "      <td>Popsi</td>\n",
       "      <td>Yes</td>\n",
       "      <td>216-516-1958</td>\n",
       "      <td>Alessandro</td>\n",
       "      <td>French</td>\n",
       "      <td>NaN</td>\n",
       "      <td>Unknown</td>\n",
       "      <td>934</td>\n",
       "    </tr>\n",
       "    <tr>\n",
       "      <th>1</th>\n",
       "      <td>isobelle.davidson@example.com</td>\n",
       "      <td>NaN</td>\n",
       "      <td>Popsi</td>\n",
       "      <td>Yes</td>\n",
       "      <td>237-295-4490</td>\n",
       "      <td>Isobelle</td>\n",
       "      <td>Davidson</td>\n",
       "      <td>NaN</td>\n",
       "      <td>Unknown</td>\n",
       "      <td>530</td>\n",
       "    </tr>\n",
       "    <tr>\n",
       "      <th>2</th>\n",
       "      <td>steven.reid@example.com</td>\n",
       "      <td>490-977-4025</td>\n",
       "      <td>Popsi</td>\n",
       "      <td>Yes</td>\n",
       "      <td>490-977-4025</td>\n",
       "      <td>Steven</td>\n",
       "      <td>Reid</td>\n",
       "      <td>NaN</td>\n",
       "      <td>Unknown</td>\n",
       "      <td>296</td>\n",
       "    </tr>\n",
       "    <tr>\n",
       "      <th>3</th>\n",
       "      <td>caleb.obrien@example.com</td>\n",
       "      <td>223-387-1014</td>\n",
       "      <td>Krafty Cheddar</td>\n",
       "      <td>Yes</td>\n",
       "      <td>223-387-1014</td>\n",
       "      <td>Caleb</td>\n",
       "      <td>Obrien</td>\n",
       "      <td>Toronto</td>\n",
       "      <td>Canada</td>\n",
       "      <td>768</td>\n",
       "    </tr>\n",
       "    <tr>\n",
       "      <th>4</th>\n",
       "      <td>kyran.duncan@example.com</td>\n",
       "      <td>NaN</td>\n",
       "      <td>Oreoz</td>\n",
       "      <td>Yes</td>\n",
       "      <td>433-632-3326</td>\n",
       "      <td>Kyran</td>\n",
       "      <td>Duncan</td>\n",
       "      <td>NaN</td>\n",
       "      <td>Unknown</td>\n",
       "      <td>971</td>\n",
       "    </tr>\n",
       "  </tbody>\n",
       "</table>\n",
       "</div>"
      ],
      "text/plain": [
       "                           email   telephone_x       promotion responded  \\\n",
       "0  alessandro.french@example.com  216-516-1958           Popsi       Yes   \n",
       "1  isobelle.davidson@example.com           NaN           Popsi       Yes   \n",
       "2        steven.reid@example.com  490-977-4025           Popsi       Yes   \n",
       "3       caleb.obrien@example.com  223-387-1014  Krafty Cheddar       Yes   \n",
       "4       kyran.duncan@example.com           NaN           Oreoz       Yes   \n",
       "\n",
       "    telephone_y  first_name last_name     city  country   id  \n",
       "0  216-516-1958  Alessandro    French      NaN  Unknown  934  \n",
       "1  237-295-4490    Isobelle  Davidson      NaN  Unknown  530  \n",
       "2  490-977-4025      Steven      Reid      NaN  Unknown  296  \n",
       "3  223-387-1014       Caleb    Obrien  Toronto   Canada  768  \n",
       "4  433-632-3326       Kyran    Duncan      NaN  Unknown  971  "
      ]
     },
     "metadata": {},
     "output_type": "display_data"
    }
   ],
   "source": [
    "display(promotions_df.head())"
   ]
  },
  {
   "cell_type": "code",
   "execution_count": 20,
   "metadata": {},
   "outputs": [
    {
     "data": {
      "text/html": [
       "<div>\n",
       "<style scoped>\n",
       "    .dataframe tbody tr th:only-of-type {\n",
       "        vertical-align: middle;\n",
       "    }\n",
       "\n",
       "    .dataframe tbody tr th {\n",
       "        vertical-align: top;\n",
       "    }\n",
       "\n",
       "    .dataframe thead th {\n",
       "        text-align: right;\n",
       "    }\n",
       "</style>\n",
       "<table border=\"1\" class=\"dataframe\">\n",
       "  <thead>\n",
       "    <tr style=\"text-align: right;\">\n",
       "      <th></th>\n",
       "      <th>promotion</th>\n",
       "      <th>Total Responses</th>\n",
       "      <th>Yes Responses</th>\n",
       "      <th>Response Rate (%)</th>\n",
       "    </tr>\n",
       "  </thead>\n",
       "  <tbody>\n",
       "    <tr>\n",
       "      <th>0</th>\n",
       "      <td>Coca-Splash</td>\n",
       "      <td>13</td>\n",
       "      <td>4</td>\n",
       "      <td>30.77</td>\n",
       "    </tr>\n",
       "    <tr>\n",
       "      <th>1</th>\n",
       "      <td>Colgatex</td>\n",
       "      <td>9</td>\n",
       "      <td>3</td>\n",
       "      <td>33.33</td>\n",
       "    </tr>\n",
       "    <tr>\n",
       "      <th>2</th>\n",
       "      <td>Dovee</td>\n",
       "      <td>16</td>\n",
       "      <td>7</td>\n",
       "      <td>43.75</td>\n",
       "    </tr>\n",
       "    <tr>\n",
       "      <th>3</th>\n",
       "      <td>Flixnet</td>\n",
       "      <td>9</td>\n",
       "      <td>2</td>\n",
       "      <td>22.22</td>\n",
       "    </tr>\n",
       "    <tr>\n",
       "      <th>4</th>\n",
       "      <td>GatorBoost</td>\n",
       "      <td>16</td>\n",
       "      <td>6</td>\n",
       "      <td>37.50</td>\n",
       "    </tr>\n",
       "    <tr>\n",
       "      <th>5</th>\n",
       "      <td>KittyKat</td>\n",
       "      <td>13</td>\n",
       "      <td>4</td>\n",
       "      <td>30.77</td>\n",
       "    </tr>\n",
       "    <tr>\n",
       "      <th>6</th>\n",
       "      <td>Krafty Cheddar</td>\n",
       "      <td>8</td>\n",
       "      <td>5</td>\n",
       "      <td>62.50</td>\n",
       "    </tr>\n",
       "    <tr>\n",
       "      <th>7</th>\n",
       "      <td>Oreoz</td>\n",
       "      <td>17</td>\n",
       "      <td>9</td>\n",
       "      <td>52.94</td>\n",
       "    </tr>\n",
       "    <tr>\n",
       "      <th>8</th>\n",
       "      <td>Popsi</td>\n",
       "      <td>17</td>\n",
       "      <td>11</td>\n",
       "      <td>64.71</td>\n",
       "    </tr>\n",
       "    <tr>\n",
       "      <th>9</th>\n",
       "      <td>RedCow</td>\n",
       "      <td>13</td>\n",
       "      <td>7</td>\n",
       "      <td>53.85</td>\n",
       "    </tr>\n",
       "  </tbody>\n",
       "</table>\n",
       "</div>"
      ],
      "text/plain": [
       "        promotion  Total Responses  Yes Responses  Response Rate (%)\n",
       "0     Coca-Splash               13              4              30.77\n",
       "1        Colgatex                9              3              33.33\n",
       "2           Dovee               16              7              43.75\n",
       "3         Flixnet                9              2              22.22\n",
       "4      GatorBoost               16              6              37.50\n",
       "5        KittyKat               13              4              30.77\n",
       "6  Krafty Cheddar                8              5              62.50\n",
       "7           Oreoz               17              9              52.94\n",
       "8           Popsi               17             11              64.71\n",
       "9          RedCow               13              7              53.85"
      ]
     },
     "execution_count": 20,
     "metadata": {},
     "output_type": "execute_result"
    }
   ],
   "source": [
    "import tools\n",
    "total_responses = promotions_df.groupby('promotion')['responded'].count()\n",
    "\n",
    "# Count of Yes responses per promotion\n",
    "yes_responses = promotions_df[promotions_df['responded'] == 'Yes'].groupby('promotion')['responded'].count()\n",
    "\n",
    "# Percentage of Yes responses per promotion\n",
    "response_rate = (yes_responses / total_responses * 100).fillna(0)\n",
    "\n",
    "# Create summary DataFrame\n",
    "promotion_summary = pd.DataFrame({\n",
    "    'Total Responses': total_responses,\n",
    "    'Yes Responses': yes_responses.fillna(0).astype(int),\n",
    "    'Response Rate (%)': response_rate.round(2)\n",
    "}).reset_index()\n",
    "\n",
    "# Display table\n",
    "# tools.display_dataframe_to_user(name=\"Promotion Performance Overview\", dataframe=promotion_summary)\n",
    "promotion_summary"
   ]
  },
  {
   "cell_type": "code",
   "execution_count": 21,
   "metadata": {},
   "outputs": [],
   "source": [
    "## Distribution of Promotions"
   ]
  },
  {
   "cell_type": "code",
   "execution_count": 22,
   "metadata": {},
   "outputs": [
    {
     "name": "stderr",
     "output_type": "stream",
     "text": [
      "/var/folders/t8/nqklvy6x565bg7rjp1gqrcl40000gn/T/ipykernel_36047/3103775431.py:2: FutureWarning: \n",
      "\n",
      "Passing `palette` without assigning `hue` is deprecated and will be removed in v0.14.0. Assign the `y` variable to `hue` and set `legend=False` for the same effect.\n",
      "\n",
      "  sns.countplot(y=promotions_df[\"promotion\"], palette=\"Blues_r\", order=promotions_df[\"promotion\"].value_counts().index)\n"
     ]
    },
    {
     "data": {
      "image/png": "[encoded data removed]",
      "text/plain": [
       "<Figure size 1000x600 with 1 Axes>"
      ]
     },
     "metadata": {},
     "output_type": "display_data"
    }
   ],
   "source": [
    "plt.figure(figsize=(10, 6))\n",
    "sns.countplot(y=promotions_df[\"promotion\"], palette=\"Blues_r\", order=promotions_df[\"promotion\"].value_counts().index)\n",
    "\n",
    "# Customize the plot\n",
    "plt.xlabel(\"Count\")\n",
    "plt.ylabel(\"Promotion Type\")\n",
    "plt.title(\"Distribution of Promotion Types\")\n",
    "plt.grid(axis=\"x\", linestyle=\"--\", alpha=0.7)\n",
    "\n",
    "# Show the plot"
   ]
  },
  {
   "cell_type": "markdown",
   "metadata": {},
   "source": [
    "## Promotion Acceptance Breakdown"
   ]
  },
  {
   "cell_type": "code",
   "execution_count": 23,
   "metadata": {},
   "outputs": [
    {
     "data": {
      "image/png": "[encoded data removed]",
      "text/plain": [
       "<Figure size 1000x500 with 1 Axes>"
      ]
     },
     "metadata": {},
     "output_type": "display_data"
    }
   ],
   "source": [
    "# Plot\n",
    "\n",
    "# Sort promotions by total responses (sum of Yes and No)\n",
    "response_summary = promotions_df.groupby(['promotion', 'responded']).size().unstack()\n",
    "\n",
    "# Sort promotions by the number of \"Yes\" responses in ascending order\n",
    "response_summary = response_summary.sort_values(by=\"Yes\", ascending=True)\n",
    "\n",
    "# Plot\n",
    "response_summary.plot(kind='bar', stacked=True, figsize=(10, 5), colormap='viridis')\n",
    "plt.title(\"Responses to Promotions (Sorted by Yes Responses)\")\n",
    "plt.ylabel(\"Number of Responses\")\n",
    "plt.xlabel(\"Promotion Type\")\n",
    "plt.xticks(rotation=45)\n",
    "plt.legend(title=\"Response\", labels=[\"No\", \"Yes\"])\n",
    "plt.show()"
   ]
  },
  {
   "cell_type": "markdown",
   "metadata": {},
   "source": [
    "# Overview \n",
    "-- Distribution\n",
    "Popsi, Oreoz, and GatorBoost were the most widely distributed promotions.\n",
    "\n",
    "-- Responses\n",
    "Popsi and Oreoz had the highest acceptance rates, indicating strong customer interest.\n",
    "Krafty Cheddar had the lowest acceptance rate, with significantly more \"No\" responses.\n",
    "Promotions like Coca-Splash and KittyKat had mixed engagement, showing room for optimization."
   ]
  },
  {
   "cell_type": "markdown",
   "metadata": {},
   "source": [
    "# Rejections across region by promotion"
   ]
  },
  {
   "cell_type": "code",
   "execution_count": 38,
   "metadata": {},
   "outputs": [
    {
     "data": {
      "application/vnd.jupyter.widget-view+json": {
       "model_id": "810c020adc724e3d828cce055dd2021a",
       "version_major": 2,
       "version_minor": 0
      },
      "text/plain": [
       "VBox(children=(Dropdown(description='Promotion', options=('Popsi', 'Krafty Cheddar', 'Oreoz', 'Colgatex', 'Gat…"
      ]
     },
     "metadata": {},
     "output_type": "display_data"
    }
   ],
   "source": [
    "# Create a dropdown for selecting a promotion\n",
    "promotion_dropdown = widgets.Dropdown(\n",
    "    options=promotions_df['promotion'].unique(),\n",
    "    description=\"Promotion\",\n",
    "    value=promotions_df['promotion'].unique()[0]  # Default selection\n",
    ")\n",
    "\n",
    "# Output widget for displaying the plot\n",
    "output = widgets.Output()\n",
    "\n",
    "# Function to update the bar chart based on promotion selection\n",
    "def update_chart(selected_promotion):\n",
    "    with output:\n",
    "        output.clear_output(wait=True)  # Clear previous output\n",
    "        \n",
    "        # Filter data for selected promotion\n",
    "        filtered_data = promotions_df[promotions_df['promotion'] == selected_promotion]\n",
    "\n",
    "        # Calculate rejection rates by country for the selected promotion\n",
    "        country_rejection_rates = (\n",
    "            filtered_data[filtered_data['responded'] == \"No\"]\n",
    "            .groupby('country')\n",
    "            .size()\n",
    "            .reset_index(name='rejection_count')\n",
    "        )\n",
    "\n",
    "        # Calculate total responses per country to get percentages\n",
    "        total_responses_per_country = filtered_data.groupby('country').size().reset_index(name='total_count')\n",
    "\n",
    "        # Merge data to compute rejection rate percentage\n",
    "        country_rejection_rates = country_rejection_rates.merge(total_responses_per_country, on='country', how='right')\n",
    "        country_rejection_rates['rejection_count'] = country_rejection_rates['rejection_count'].fillna(0)\n",
    "        country_rejection_rates['rejection_rate'] = (country_rejection_rates['rejection_count'] / country_rejection_rates['total_count']) * 100\n",
    "\n",
    "        # Plot rejection rates by country as a bar chart\n",
    "        plt.figure(figsize=(12, 6))\n",
    "        sns.barplot(data=country_rejection_rates, x='country', y='rejection_rate', palette='Reds')\n",
    "\n",
    "        plt.xlabel(\"Country\", fontsize=12)\n",
    "        plt.ylabel(\"Rejection Rate (%)\", fontsize=12)\n",
    "        plt.title(f\"Rejection Rates by Country for {selected_promotion}\", fontsize=14)\n",
    "        plt.xticks(rotation=30, ha=\"right\")\n",
    "        plt.grid(axis='y', linestyle='--', alpha=0.7)\n",
    "\n",
    "        plt.show()\n",
    "\n",
    "# Attach the update function to dropdown value change\n",
    "promotion_dropdown.observe(lambda change: update_chart(change['new']), names='value')\n",
    "\n",
    "# Display the dropdown and output widget\n",
    "display(widgets.VBox([promotion_dropdown, output]))\n",
    "\n",
    "# Show initial chart\n",
    "update_chart(promotion_dropdown.value)\n"
   ]
  },
  {
   "cell_type": "markdown",
   "metadata": {},
   "source": [
    "# Promotion Analysis"
   ]
  },
  {
   "cell_type": "code",
   "execution_count": null,
   "metadata": {},
   "outputs": [],
   "source": [
    "import pandas as pd\n",
    "import matplotlib.pyplot as plt\n",
    "import seaborn as sns\n",
    "import ipywidgets as widgets\n",
    "from IPython.display import display\n",
    "%matplotlib inline"
   ]
  },
  {
   "cell_type": "code",
   "execution_count": null,
   "metadata": {},
   "outputs": [],
   "source": [
    "# file_path = \"/Users/apeksha/Desktop/Xtillion_Venmito/Venmito-apekshamalik/output_data/promotions_(linked).csv\"\n",
    "file_path = \"/Users/alipuccio/Desktop/apex/Venmito-apekshamalik/output_data/promotions_(linked).csv\"\n",
    "promotions_df = pd.read_csv(file_path)"
   ]
  },
  {
   "cell_type": "code",
   "execution_count": null,
   "metadata": {},
   "outputs": [
    {
     "data": {
      "text/html": [
       "<div>\n",
       "<style scoped>\n",
       "    .dataframe tbody tr th:only-of-type {\n",
       "        vertical-align: middle;\n",
       "    }\n",
       "\n",
       "    .dataframe tbody tr th {\n",
       "        vertical-align: top;\n",
       "    }\n",
       "\n",
       "    .dataframe thead th {\n",
       "        text-align: right;\n",
       "    }\n",
       "</style>\n",
       "<table border=\"1\" class=\"dataframe\">\n",
       "  <thead>\n",
       "    <tr style=\"text-align: right;\">\n",
       "      <th></th>\n",
       "      <th>email</th>\n",
       "      <th>telephone_x</th>\n",
       "      <th>promotion</th>\n",
       "      <th>responded</th>\n",
       "      <th>telephone_y</th>\n",
       "      <th>first_name</th>\n",
       "      <th>last_name</th>\n",
       "      <th>city</th>\n",
       "      <th>country</th>\n",
       "      <th>id</th>\n",
       "    </tr>\n",
       "  </thead>\n",
       "  <tbody>\n",
       "    <tr>\n",
       "      <th>0</th>\n",
       "      <td>alessandro.french@example.com</td>\n",
       "      <td>216-516-1958</td>\n",
       "      <td>Popsi</td>\n",
       "      <td>Yes</td>\n",
       "      <td>216-516-1958</td>\n",
       "      <td>Alessandro</td>\n",
       "      <td>French</td>\n",
       "      <td>NaN</td>\n",
       "      <td>Unknown</td>\n",
       "      <td>934</td>\n",
       "    </tr>\n",
       "    <tr>\n",
       "      <th>1</th>\n",
       "      <td>isobelle.davidson@example.com</td>\n",
       "      <td>NaN</td>\n",
       "      <td>Popsi</td>\n",
       "      <td>Yes</td>\n",
       "      <td>237-295-4490</td>\n",
       "      <td>Isobelle</td>\n",
       "      <td>Davidson</td>\n",
       "      <td>NaN</td>\n",
       "      <td>Unknown</td>\n",
       "      <td>530</td>\n",
       "    </tr>\n",
       "    <tr>\n",
       "      <th>2</th>\n",
       "      <td>steven.reid@example.com</td>\n",
       "      <td>490-977-4025</td>\n",
       "      <td>Popsi</td>\n",
       "      <td>Yes</td>\n",
       "      <td>490-977-4025</td>\n",
       "      <td>Steven</td>\n",
       "      <td>Reid</td>\n",
       "      <td>NaN</td>\n",
       "      <td>Unknown</td>\n",
       "      <td>296</td>\n",
       "    </tr>\n",
       "    <tr>\n",
       "      <th>3</th>\n",
       "      <td>caleb.obrien@example.com</td>\n",
       "      <td>223-387-1014</td>\n",
       "      <td>Krafty Cheddar</td>\n",
       "      <td>Yes</td>\n",
       "      <td>223-387-1014</td>\n",
       "      <td>Caleb</td>\n",
       "      <td>Obrien</td>\n",
       "      <td>Toronto</td>\n",
       "      <td>Canada</td>\n",
       "      <td>768</td>\n",
       "    </tr>\n",
       "    <tr>\n",
       "      <th>4</th>\n",
       "      <td>kyran.duncan@example.com</td>\n",
       "      <td>NaN</td>\n",
       "      <td>Oreoz</td>\n",
       "      <td>Yes</td>\n",
       "      <td>433-632-3326</td>\n",
       "      <td>Kyran</td>\n",
       "      <td>Duncan</td>\n",
       "      <td>NaN</td>\n",
       "      <td>Unknown</td>\n",
       "      <td>971</td>\n",
       "    </tr>\n",
       "  </tbody>\n",
       "</table>\n",
       "</div>"
      ],
      "text/plain": [
       "                           email   telephone_x       promotion responded  \\\n",
       "0  alessandro.french@example.com  216-516-1958           Popsi       Yes   \n",
       "1  isobelle.davidson@example.com           NaN           Popsi       Yes   \n",
       "2        steven.reid@example.com  490-977-4025           Popsi       Yes   \n",
       "3       caleb.obrien@example.com  223-387-1014  Krafty Cheddar       Yes   \n",
       "4       kyran.duncan@example.com           NaN           Oreoz       Yes   \n",
       "\n",
       "    telephone_y  first_name last_name     city  country   id  \n",
       "0  216-516-1958  Alessandro    French      NaN  Unknown  934  \n",
       "1  237-295-4490    Isobelle  Davidson      NaN  Unknown  530  \n",
       "2  490-977-4025      Steven      Reid      NaN  Unknown  296  \n",
       "3  223-387-1014       Caleb    Obrien  Toronto   Canada  768  \n",
       "4  433-632-3326       Kyran    Duncan      NaN  Unknown  971  "
      ]
     },
     "metadata": {},
     "output_type": "display_data"
    }
   ],
   "source": [
    "display(promotions_df.head())"
   ]
  },
  {
   "cell_type": "code",
   "execution_count": null,
   "metadata": {},
   "outputs": [
    {
     "data": {
      "text/html": [
       "<div>\n",
       "<style scoped>\n",
       "    .dataframe tbody tr th:only-of-type {\n",
       "        vertical-align: middle;\n",
       "    }\n",
       "\n",
       "    .dataframe tbody tr th {\n",
       "        vertical-align: top;\n",
       "    }\n",
       "\n",
       "    .dataframe thead th {\n",
       "        text-align: right;\n",
       "    }\n",
       "</style>\n",
       "<table border=\"1\" class=\"dataframe\">\n",
       "  <thead>\n",
       "    <tr style=\"text-align: right;\">\n",
       "      <th></th>\n",
       "      <th>promotion</th>\n",
       "      <th>Total Responses</th>\n",
       "      <th>Yes Responses</th>\n",
       "      <th>Response Rate (%)</th>\n",
       "    </tr>\n",
       "  </thead>\n",
       "  <tbody>\n",
       "    <tr>\n",
       "      <th>0</th>\n",
       "      <td>Coca-Splash</td>\n",
       "      <td>13</td>\n",
       "      <td>4</td>\n",
       "      <td>30.77</td>\n",
       "    </tr>\n",
       "    <tr>\n",
       "      <th>1</th>\n",
       "      <td>Colgatex</td>\n",
       "      <td>9</td>\n",
       "      <td>3</td>\n",
       "      <td>33.33</td>\n",
       "    </tr>\n",
       "    <tr>\n",
       "      <th>2</th>\n",
       "      <td>Dovee</td>\n",
       "      <td>16</td>\n",
       "      <td>7</td>\n",
       "      <td>43.75</td>\n",
       "    </tr>\n",
       "    <tr>\n",
       "      <th>3</th>\n",
       "      <td>Flixnet</td>\n",
       "      <td>9</td>\n",
       "      <td>2</td>\n",
       "      <td>22.22</td>\n",
       "    </tr>\n",
       "    <tr>\n",
       "      <th>4</th>\n",
       "      <td>GatorBoost</td>\n",
       "      <td>16</td>\n",
       "      <td>6</td>\n",
       "      <td>37.50</td>\n",
       "    </tr>\n",
       "    <tr>\n",
       "      <th>5</th>\n",
       "      <td>KittyKat</td>\n",
       "      <td>13</td>\n",
       "      <td>4</td>\n",
       "      <td>30.77</td>\n",
       "    </tr>\n",
       "    <tr>\n",
       "      <th>6</th>\n",
       "      <td>Krafty Cheddar</td>\n",
       "      <td>8</td>\n",
       "      <td>5</td>\n",
       "      <td>62.50</td>\n",
       "    </tr>\n",
       "    <tr>\n",
       "      <th>7</th>\n",
       "      <td>Oreoz</td>\n",
       "      <td>17</td>\n",
       "      <td>9</td>\n",
       "      <td>52.94</td>\n",
       "    </tr>\n",
       "    <tr>\n",
       "      <th>8</th>\n",
       "      <td>Popsi</td>\n",
       "      <td>17</td>\n",
       "      <td>11</td>\n",
       "      <td>64.71</td>\n",
       "    </tr>\n",
       "    <tr>\n",
       "      <th>9</th>\n",
       "      <td>RedCow</td>\n",
       "      <td>13</td>\n",
       "      <td>7</td>\n",
       "      <td>53.85</td>\n",
       "    </tr>\n",
       "  </tbody>\n",
       "</table>\n",
       "</div>"
      ],
      "text/plain": [
       "        promotion  Total Responses  Yes Responses  Response Rate (%)\n",
       "0     Coca-Splash               13              4              30.77\n",
       "1        Colgatex                9              3              33.33\n",
       "2           Dovee               16              7              43.75\n",
       "3         Flixnet                9              2              22.22\n",
       "4      GatorBoost               16              6              37.50\n",
       "5        KittyKat               13              4              30.77\n",
       "6  Krafty Cheddar                8              5              62.50\n",
       "7           Oreoz               17              9              52.94\n",
       "8           Popsi               17             11              64.71\n",
       "9          RedCow               13              7              53.85"
      ]
     },
     "metadata": {},
     "output_type": "display_data"
    }
   ],
   "source": [
    "import tools\n",
    "total_responses = promotions_df.groupby('promotion')['responded'].count()\n",
    "\n",
    "# Count of Yes responses per promotion\n",
    "yes_responses = promotions_df[promotions_df['responded'] == 'Yes'].groupby('promotion')['responded'].count()\n",
    "\n",
    "# Percentage of Yes responses per promotion\n",
    "response_rate = (yes_responses / total_responses * 100).fillna(0)\n",
    "\n",
    "# Create summary DataFrame\n",
    "promotion_summary = pd.DataFrame({\n",
    "    'Total Responses': total_responses,\n",
    "    'Yes Responses': yes_responses.fillna(0).astype(int),\n",
    "    'Response Rate (%)': response_rate.round(2)\n",
    "}).reset_index()\n",
    "\n",
    "# Display table\n",
    "# tools.display_dataframe_to_user(name=\"Promotion Performance Overview\", dataframe=promotion_summary)\n",
    "promotion_summary"
   ]
  },
  {
   "cell_type": "code",
   "execution_count": null,
   "metadata": {},
   "outputs": [],
   "source": [
    "## Distribution of Promotions"
   ]
  },
  {
   "cell_type": "markdown",
   "metadata": {},
   "source": [
    "## Promotion Acceptance Breakdown"
   ]
  },
  {
   "cell_type": "markdown",
   "metadata": {},
   "source": [
    "# Overview \n",
    "-- Distribution\n",
    "Popsi, Oreoz, and GatorBoost were the most widely distributed promotions.\n",
    "\n",
    "-- Responses\n",
    "Popsi and Oreoz had the highest acceptance rates, indicating strong customer interest.\n",
    "Krafty Cheddar had the lowest acceptance rate, with significantly more \"No\" responses.\n",
    "Promotions like Coca-Splash and KittyKat had mixed engagement, showing room for optimization."
   ]
  },
  {
   "cell_type": "markdown",
   "metadata": {},
   "source": [
    "# Promotion acceptances by country"
   ]
  },
  {
   "cell_type": "code",
   "execution_count": 40,
   "metadata": {},
   "outputs": [
    {
     "data": {
      "application/vnd.jupyter.widget-view+json": {
       "model_id": "cdfdf36bb37145628bd4f2ed1934e01a",
       "version_major": 2,
       "version_minor": 0
      },
      "text/plain": [
       "VBox(children=(Dropdown(description='Country', options=('Unknown', 'Canada', 'United Kingdom', 'Spain', 'Franc…"
      ]
     },
     "metadata": {},
     "output_type": "display_data"
    }
   ],
   "source": [
    "%matplotlib inline\n",
    "\n",
    "# Convert response to numeric\n",
    "promotions_df['response_numeric'] = promotions_df['responded'].map({'Yes': 1, 'No': 0})\n",
    "\n",
    "# Aggregate acceptance rate per country and promotion\n",
    "promotion_acceptance = promotions_df.groupby(['country', 'promotion'])['response_numeric'].mean().reset_index()\n",
    "\n",
    "# Dropdown for selecting a country\n",
    "country_dropdown = widgets.Dropdown(\n",
    "    options=promotions_df['country'].unique(),\n",
    "    description=\"Country\",\n",
    "    value=promotions_df['country'].unique()[0]  # Default selection\n",
    ")\n",
    "\n",
    "# Function to update the chart based on selection\n",
    "def update_chart(selected_country):\n",
    "    # Clear previous output\n",
    "    plt.clf()\n",
    "\n",
    "    # Filter data for selected country\n",
    "    filtered_data = promotion_acceptance[promotion_acceptance['country'] == selected_country]\n",
    "\n",
    "    # Create a new figure\n",
    "    plt.figure(figsize=(10, 5))\n",
    "    sns.barplot(x='promotion', y='response_numeric', data=filtered_data, palette='Set2')\n",
    "\n",
    "    plt.xlabel(\"Promotion Type\", fontsize=12)\n",
    "    plt.ylabel(\"Acceptance Rate (%)\", fontsize=12)\n",
    "    plt.title(f\"Promotion Acceptance Rate in {selected_country}\", fontsize=14, pad=20)\n",
    "    plt.xticks(rotation=45, ha=\"right\")\n",
    "    plt.ylim(0, 1)\n",
    "\n",
    "    # Add percentage labels without overlapping title\n",
    "    for p in plt.gca().patches:\n",
    "        plt.text(p.get_x() + p.get_width()/2, p.get_height() + 0.03, f\"{p.get_height()*100:.1f}%\", \n",
    "                 ha='center', fontsize=10, fontweight='bold')\n",
    "\n",
    "    plt.tight_layout()  # Adjust layout to prevent overlapping\n",
    "    plt.show()\n",
    "\n",
    "# Display the widget\n",
    "display(widgets.VBox([country_dropdown, widgets.interactive_output(update_chart, {'selected_country': country_dropdown})]))"
   ]
  },
  {
   "cell_type": "markdown",
   "metadata": {},
   "source": [
    "# Rejections in region by promotion"
   ]
  },
  {
   "cell_type": "code",
   "execution_count": 43,
   "metadata": {},
   "outputs": [
    {
     "data": {
      "application/vnd.jupyter.widget-view+json": {
       "model_id": "65d249932438457ca7fe556b5c133b86",
       "version_major": 2,
       "version_minor": 0
      },
      "text/plain": [
       "interactive(children=(Dropdown(description='Promotion', options=('Popsi', 'Krafty Cheddar', 'Oreoz', 'Colgatex…"
      ]
     },
     "metadata": {},
     "output_type": "display_data"
    }
   ],
   "source": [
    "# Create a dropdown for selecting a promotion\n",
    "promotion_dropdown = widgets.Dropdown(\n",
    "    options=promotions_df['promotion'].unique(),\n",
    "    description=\"Promotion\",\n",
    "    value=promotions_df['promotion'].unique()[0]  # Default selection\n",
    ")\n",
    "\n",
    "# Function to update the rejection chart based on selected promotion\n",
    "def update(promotion):\n",
    "    # Filter data for selected promotion\n",
    "    filtered_df = promotions_df[promotions_df['promotion'] == promotion]\n",
    "\n",
    "    # Calculate rejection rates by country for the selected promotion\n",
    "    country_rejection_rates = (\n",
    "        filtered_df[filtered_df['responded'] == \"No\"]\n",
    "        .groupby('country')\n",
    "        .size()\n",
    "        .reset_index(name='rejection_count')\n",
    "    )\n",
    "\n",
    "    # Calculate total responses per country to get percentages\n",
    "    total_responses_per_country = filtered_df.groupby('country').size().reset_index(name='total_count')\n",
    "\n",
    "    # Merge data to compute rejection rate percentage\n",
    "    country_rejection_rates = country_rejection_rates.merge(total_responses_per_country, on='country', how='right')\n",
    "    country_rejection_rates['rejection_count'] = country_rejection_rates['rejection_count'].fillna(0)\n",
    "    country_rejection_rates['rejection_rate'] = (country_rejection_rates['rejection_count'] / country_rejection_rates['total_count']) * 100\n",
    "\n",
    "    # Plot rejection rates by country as a bar chart\n",
    "    plt.figure(figsize=(10, 5))\n",
    "    plt.bar(country_rejection_rates['country'], country_rejection_rates['rejection_rate'], color='red', alpha=0.7)\n",
    "    plt.xlabel(\"Country\")\n",
    "    plt.ylabel(\"Rejection Rate (%)\")\n",
    "    plt.title(f\"Rejection Rates by Country for {promotion}\")\n",
    "    plt.xticks(rotation=45)\n",
    "    plt.grid(axis='y', linestyle='--', alpha=0.7)\n",
    "    plt.show()\n",
    "\n",
    "# Display the interactive dropdown\n",
    "interactive_plot = widgets.interactive(update, promotion=promotion_dropdown)\n",
    "display(interactive_plot)\n"
   ]
  },
  {
   "cell_type": "markdown",
   "metadata": {},
   "source": []
  },
  {
   "cell_type": "markdown",
   "metadata": {},
   "source": []
  }
 ],
 "metadata": {
  "kernelspec": {
   "display_name": "Python 3.11.4 ('apexvenv': venv)",
   "language": "python",
   "name": "python3"
  },
  "language_info": {
   "codemirror_mode": {
    "name": "ipython",
    "version": 3
   },
   "file_extension": ".py",
   "mimetype": "text/x-python",
   "name": "python",
   "nbconvert_exporter": "python",
   "pygments_lexer": "ipython3",
   "version": "3.11.4"
  },
  "vscode": {
   "interpreter": {
    "hash": "19ea089a1087bec5f6b9cb8597273b13db28a5e4960a892bddf5d8640a063ec1"
   }
  }
 },
 "nbformat": 4,
 "nbformat_minor": 2
}
