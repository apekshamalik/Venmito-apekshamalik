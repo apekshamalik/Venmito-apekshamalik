{
 "cells": [
  {
   "cell_type": "markdown",
   "metadata": {},
   "source": [
    "# Transactions analysis"
   ]
  },
  {
   "cell_type": "code",
   "execution_count": null,
   "metadata": {},
   "outputs": [
    {
     "ename": "",
     "evalue": "",
     "output_type": "error",
     "traceback": [
      "\u001b[1;31mFailed to start the Kernel. \n",
      "\u001b[1;31mUnable to start Kernel '.venv (Python 3.12.8)' due to a timeout waiting for the ports to get used. \n",
      "\u001b[1;31mView Jupyter <a href='command:jupyter.viewOutput'>log</a> for further details."
     ]
    }
   ],
   "source": [
    "import pandas as pd\n",
    "import ast\n"
   ]
  },
  {
   "cell_type": "code",
   "execution_count": 3,
   "metadata": {},
   "outputs": [],
   "source": [
    "file_path = \"/Users/apeksha/Desktop/Xtillion_Venmito/Venmito-apekshamalik/output_data/transactions_(linked).csv\"\n",
    "transactions_df = pd.read_csv(file_path)"
   ]
  },
  {
   "cell_type": "code",
   "execution_count": 4,
   "metadata": {},
   "outputs": [
    {
     "data": {
      "text/html": [
       "<div>\n",
       "<style scoped>\n",
       "    .dataframe tbody tr th:only-of-type {\n",
       "        vertical-align: middle;\n",
       "    }\n",
       "\n",
       "    .dataframe tbody tr th {\n",
       "        vertical-align: top;\n",
       "    }\n",
       "\n",
       "    .dataframe thead th {\n",
       "        text-align: right;\n",
       "    }\n",
       "</style>\n",
       "<table border=\"1\" class=\"dataframe\">\n",
       "  <thead>\n",
       "    <tr style=\"text-align: right;\">\n",
       "      <th></th>\n",
       "      <th>transaction_id</th>\n",
       "      <th>phone</th>\n",
       "      <th>store</th>\n",
       "      <th>items</th>\n",
       "      <th>person_id</th>\n",
       "    </tr>\n",
       "  </thead>\n",
       "  <tbody>\n",
       "    <tr>\n",
       "      <th>0</th>\n",
       "      <td>1000</td>\n",
       "      <td>233-159-4158</td>\n",
       "      <td>Trader Tales</td>\n",
       "      <td>['Krafty Cheddar (x1)', 'Popsi (x1)', 'Oreoz (...</td>\n",
       "      <td>854</td>\n",
       "    </tr>\n",
       "    <tr>\n",
       "      <th>1</th>\n",
       "      <td>1001</td>\n",
       "      <td>725-427-2794</td>\n",
       "      <td>PetPals Mart</td>\n",
       "      <td>['Colgatex (x1)']</td>\n",
       "      <td>341</td>\n",
       "    </tr>\n",
       "    <tr>\n",
       "      <th>2</th>\n",
       "      <td>1002</td>\n",
       "      <td>659-190-9378</td>\n",
       "      <td>Trader Tales</td>\n",
       "      <td>['Colgatex (x1)', 'Dovee (x1)', 'Flixnet (x1)']</td>\n",
       "      <td>15</td>\n",
       "    </tr>\n",
       "    <tr>\n",
       "      <th>3</th>\n",
       "      <td>1003</td>\n",
       "      <td>334-436-6254</td>\n",
       "      <td>Urban Outfitters Loft</td>\n",
       "      <td>['Krafty Cheddar (x2)', 'RedCow (x1)', 'Dovee ...</td>\n",
       "      <td>371</td>\n",
       "    </tr>\n",
       "    <tr>\n",
       "      <th>4</th>\n",
       "      <td>1004</td>\n",
       "      <td>615-102-4849</td>\n",
       "      <td>PetPals Mart</td>\n",
       "      <td>['Popsi (x1)', 'Flixnet (x1)']</td>\n",
       "      <td>480</td>\n",
       "    </tr>\n",
       "  </tbody>\n",
       "</table>\n",
       "</div>"
      ],
      "text/plain": [
       "   transaction_id         phone                  store  \\\n",
       "0            1000  233-159-4158           Trader Tales   \n",
       "1            1001  725-427-2794           PetPals Mart   \n",
       "2            1002  659-190-9378           Trader Tales   \n",
       "3            1003  334-436-6254  Urban Outfitters Loft   \n",
       "4            1004  615-102-4849           PetPals Mart   \n",
       "\n",
       "                                               items  person_id  \n",
       "0  ['Krafty Cheddar (x1)', 'Popsi (x1)', 'Oreoz (...        854  \n",
       "1                                  ['Colgatex (x1)']        341  \n",
       "2    ['Colgatex (x1)', 'Dovee (x1)', 'Flixnet (x1)']         15  \n",
       "3  ['Krafty Cheddar (x2)', 'RedCow (x1)', 'Dovee ...        371  \n",
       "4                     ['Popsi (x1)', 'Flixnet (x1)']        480  "
      ]
     },
     "metadata": {},
     "output_type": "display_data"
    }
   ],
   "source": [
    "display(transactions_df.head())"
   ]
  },
  {
   "cell_type": "code",
   "execution_count": 5,
   "metadata": {},
   "outputs": [
    {
     "name": "stdout",
     "output_type": "stream",
     "text": [
      "0    ['Krafty Cheddar (x1)', 'Popsi (x1)', 'Oreoz (...\n",
      "1                                    ['Colgatex (x1)']\n",
      "2      ['Colgatex (x1)', 'Dovee (x1)', 'Flixnet (x1)']\n",
      "3    ['Krafty Cheddar (x2)', 'RedCow (x1)', 'Dovee ...\n",
      "4                       ['Popsi (x1)', 'Flixnet (x1)']\n",
      "5                      ['Popsi (x1)', 'KittyKat (x2)']\n",
      "6                    ['Flixnet (x1)', 'Colgatex (x2)']\n",
      "7       ['KittyKat (x2)', 'RedCow (x1)', 'Dovee (x3)']\n",
      "8    ['Colgatex (x1)', 'RedCow (x1)', 'KittyKat (x1)']\n",
      "9                              ['Krafty Cheddar (x1)']\n",
      "Name: items, dtype: object\n",
      "<class 'str'>\n"
     ]
    }
   ],
   "source": [
    "print(transactions_df[\"items\"].head(10))  # See the first 10 values\n",
    "print(type(transactions_df[\"items\"].iloc[0]))  # Check the type of the first row"
   ]
  },
  {
   "cell_type": "code",
   "execution_count": 6,
   "metadata": {},
   "outputs": [],
   "source": [
    "transactions_df[\"items\"] = transactions_df[\"items\"].apply(ast.literal_eval)"
   ]
  },
  {
   "cell_type": "code",
   "execution_count": 7,
   "metadata": {},
   "outputs": [],
   "source": [
    "transactions_df = transactions_df.explode(\"items\")"
   ]
  },
  {
   "cell_type": "code",
   "execution_count": 8,
   "metadata": {},
   "outputs": [
    {
     "name": "stdout",
     "output_type": "stream",
     "text": [
      "   transaction_id         phone                  store                items  \\\n",
      "0            1000  233-159-4158           Trader Tales  Krafty Cheddar (x1)   \n",
      "0            1000  233-159-4158           Trader Tales           Popsi (x1)   \n",
      "0            1000  233-159-4158           Trader Tales           Oreoz (x2)   \n",
      "1            1001  725-427-2794           PetPals Mart        Colgatex (x1)   \n",
      "2            1002  659-190-9378           Trader Tales        Colgatex (x1)   \n",
      "2            1002  659-190-9378           Trader Tales           Dovee (x1)   \n",
      "2            1002  659-190-9378           Trader Tales         Flixnet (x1)   \n",
      "3            1003  334-436-6254  Urban Outfitters Loft  Krafty Cheddar (x2)   \n",
      "3            1003  334-436-6254  Urban Outfitters Loft          RedCow (x1)   \n",
      "3            1003  334-436-6254  Urban Outfitters Loft           Dovee (x2)   \n",
      "\n",
      "   person_id  \n",
      "0        854  \n",
      "0        854  \n",
      "0        854  \n",
      "1        341  \n",
      "2         15  \n",
      "2         15  \n",
      "2         15  \n",
      "3        371  \n",
      "3        371  \n",
      "3        371  \n"
     ]
    }
   ],
   "source": [
    "print(transactions_df.head(10))"
   ]
  },
  {
   "cell_type": "code",
   "execution_count": 9,
   "metadata": {},
   "outputs": [],
   "source": [
    "best_sellers = transactions_df[\"items\"].value_counts().reset_index()\n",
    "best_sellers.columns = ['Item', 'Count']\n"
   ]
  },
  {
   "cell_type": "markdown",
   "metadata": {},
   "source": [
    "# Reformat to extract and remove quantity amounts"
   ]
  },
  {
   "cell_type": "code",
   "execution_count": 10,
   "metadata": {},
   "outputs": [],
   "source": [
    "transactions_df[\"item_clean\"] = transactions_df[\"items\"].str.extract(r'(.+) \\(x\\d+\\)')\n",
    "transactions_df[\"quantity\"] = transactions_df[\"items\"].str.extract(r'x(\\d+)').astype(float)"
   ]
  },
  {
   "cell_type": "markdown",
   "metadata": {},
   "source": [
    "# Best sellers dataframe cleaned and formatted in descending order"
   ]
  },
  {
   "cell_type": "code",
   "execution_count": 11,
   "metadata": {},
   "outputs": [],
   "source": [
    "best_sellers = transactions_df.groupby(\"item_clean\")[\"quantity\"].sum().reset_index()\n",
    "best_sellers = best_sellers.sort_values(by=\"quantity\", ascending=False)"
   ]
  },
  {
   "cell_type": "markdown",
   "metadata": {},
   "source": [
    "# Best 10 selling items"
   ]
  },
  {
   "cell_type": "code",
   "execution_count": 12,
   "metadata": {},
   "outputs": [
    {
     "data": {
      "text/html": [
       "<div>\n",
       "<style scoped>\n",
       "    .dataframe tbody tr th:only-of-type {\n",
       "        vertical-align: middle;\n",
       "    }\n",
       "\n",
       "    .dataframe tbody tr th {\n",
       "        vertical-align: top;\n",
       "    }\n",
       "\n",
       "    .dataframe thead th {\n",
       "        text-align: right;\n",
       "    }\n",
       "</style>\n",
       "<table border=\"1\" class=\"dataframe\">\n",
       "  <thead>\n",
       "    <tr style=\"text-align: right;\">\n",
       "      <th></th>\n",
       "      <th>item_clean</th>\n",
       "      <th>quantity</th>\n",
       "    </tr>\n",
       "  </thead>\n",
       "  <tbody>\n",
       "    <tr>\n",
       "      <th>2</th>\n",
       "      <td>Dovee</td>\n",
       "      <td>96.0</td>\n",
       "    </tr>\n",
       "    <tr>\n",
       "      <th>9</th>\n",
       "      <td>RedCow</td>\n",
       "      <td>66.0</td>\n",
       "    </tr>\n",
       "    <tr>\n",
       "      <th>1</th>\n",
       "      <td>Colgatex</td>\n",
       "      <td>58.0</td>\n",
       "    </tr>\n",
       "    <tr>\n",
       "      <th>8</th>\n",
       "      <td>Popsi</td>\n",
       "      <td>58.0</td>\n",
       "    </tr>\n",
       "    <tr>\n",
       "      <th>3</th>\n",
       "      <td>Flixnet</td>\n",
       "      <td>50.0</td>\n",
       "    </tr>\n",
       "    <tr>\n",
       "      <th>5</th>\n",
       "      <td>KittyKat</td>\n",
       "      <td>46.0</td>\n",
       "    </tr>\n",
       "    <tr>\n",
       "      <th>6</th>\n",
       "      <td>Krafty Cheddar</td>\n",
       "      <td>30.0</td>\n",
       "    </tr>\n",
       "    <tr>\n",
       "      <th>7</th>\n",
       "      <td>Oreoz</td>\n",
       "      <td>28.0</td>\n",
       "    </tr>\n",
       "    <tr>\n",
       "      <th>4</th>\n",
       "      <td>GatorBoost</td>\n",
       "      <td>17.0</td>\n",
       "    </tr>\n",
       "    <tr>\n",
       "      <th>0</th>\n",
       "      <td>Coca-Splash</td>\n",
       "      <td>2.0</td>\n",
       "    </tr>\n",
       "  </tbody>\n",
       "</table>\n",
       "</div>"
      ],
      "text/plain": [
       "       item_clean  quantity\n",
       "2           Dovee      96.0\n",
       "9          RedCow      66.0\n",
       "1        Colgatex      58.0\n",
       "8           Popsi      58.0\n",
       "3         Flixnet      50.0\n",
       "5        KittyKat      46.0\n",
       "6  Krafty Cheddar      30.0\n",
       "7           Oreoz      28.0\n",
       "4      GatorBoost      17.0\n",
       "0     Coca-Splash       2.0"
      ]
     },
     "metadata": {},
     "output_type": "display_data"
    }
   ],
   "source": [
    "display(best_sellers.head(10))"
   ]
  },
  {
   "cell_type": "markdown",
   "metadata": {},
   "source": [
    "# Format for best 10 and handling NaN"
   ]
  },
  {
   "cell_type": "code",
   "execution_count": 13,
   "metadata": {},
   "outputs": [
    {
     "name": "stderr",
     "output_type": "stream",
     "text": [
      "/var/folders/y4/dyhvw0wj3ll75465hnk5bhrh0000gn/T/ipykernel_11819/1222971556.py:4: FutureWarning: A value is trying to be set on a copy of a DataFrame or Series through chained assignment using an inplace method.\n",
      "The behavior will change in pandas 3.0. This inplace method will never work because the intermediate object on which we are setting values always behaves as a copy.\n",
      "\n",
      "For example, when doing 'df[col].method(value, inplace=True)', try using 'df.method({col: value}, inplace=True)' or df[col] = df[col].method(value) instead, to perform the operation inplace on the original object.\n",
      "\n",
      "\n",
      "  transactions_df[\"quantity\"].fillna(1, inplace=True)\n"
     ]
    }
   ],
   "source": [
    "transactions_df[\"item_clean\"] = transactions_df[\"items\"].str.extract(r'(.+?) \\(x\\d+\\)')\n",
    "transactions_df[\"quantity\"] = transactions_df[\"items\"].str.extract(r'x(\\d+)').astype(float)\n",
    "\n",
    "transactions_df[\"quantity\"].fillna(1, inplace=True)"
   ]
  },
  {
   "cell_type": "code",
   "execution_count": 14,
   "metadata": {},
   "outputs": [],
   "source": [
    "store_sales = transactions_df.groupby(\"store\")[\"quantity\"].sum().reset_index().sort_values(by=\"quantity\", ascending=False)"
   ]
  },
  {
   "cell_type": "markdown",
   "metadata": {},
   "source": [
    "# Stores with the highest sales display"
   ]
  },
  {
   "cell_type": "code",
   "execution_count": 15,
   "metadata": {},
   "outputs": [
    {
     "data": {
      "text/html": [
       "<div>\n",
       "<style scoped>\n",
       "    .dataframe tbody tr th:only-of-type {\n",
       "        vertical-align: middle;\n",
       "    }\n",
       "\n",
       "    .dataframe tbody tr th {\n",
       "        vertical-align: top;\n",
       "    }\n",
       "\n",
       "    .dataframe thead th {\n",
       "        text-align: right;\n",
       "    }\n",
       "</style>\n",
       "<table border=\"1\" class=\"dataframe\">\n",
       "  <thead>\n",
       "    <tr style=\"text-align: right;\">\n",
       "      <th></th>\n",
       "      <th>store</th>\n",
       "      <th>quantity</th>\n",
       "    </tr>\n",
       "  </thead>\n",
       "  <tbody>\n",
       "    <tr>\n",
       "      <th>5</th>\n",
       "      <td>Urban Outfitters Loft</td>\n",
       "      <td>134.0</td>\n",
       "    </tr>\n",
       "    <tr>\n",
       "      <th>4</th>\n",
       "      <td>Trader Tales</td>\n",
       "      <td>109.0</td>\n",
       "    </tr>\n",
       "    <tr>\n",
       "      <th>1</th>\n",
       "      <td>PetPals Mart</td>\n",
       "      <td>99.0</td>\n",
       "    </tr>\n",
       "    <tr>\n",
       "      <th>0</th>\n",
       "      <td>BestChoice Buy</td>\n",
       "      <td>57.0</td>\n",
       "    </tr>\n",
       "    <tr>\n",
       "      <th>2</th>\n",
       "      <td>SparkMart</td>\n",
       "      <td>44.0</td>\n",
       "    </tr>\n",
       "    <tr>\n",
       "      <th>3</th>\n",
       "      <td>Targeted Treasures</td>\n",
       "      <td>8.0</td>\n",
       "    </tr>\n",
       "  </tbody>\n",
       "</table>\n",
       "</div>"
      ],
      "text/plain": [
       "                   store  quantity\n",
       "5  Urban Outfitters Loft     134.0\n",
       "4           Trader Tales     109.0\n",
       "1           PetPals Mart      99.0\n",
       "0         BestChoice Buy      57.0\n",
       "2              SparkMart      44.0\n",
       "3     Targeted Treasures       8.0"
      ]
     },
     "metadata": {},
     "output_type": "display_data"
    }
   ],
   "source": [
    "display(store_sales.head(10))"
   ]
  }
 ],
 "metadata": {
  "kernelspec": {
   "display_name": "venv",
   "language": "python",
   "name": "python3"
  },
  "language_info": {
   "codemirror_mode": {
    "name": "ipython",
    "version": 3
   },
   "file_extension": ".py",
   "mimetype": "text/x-python",
   "name": "python",
   "nbconvert_exporter": "python",
   "pygments_lexer": "ipython3",
   "version": "3.12.8"
  }
 },
 "nbformat": 4,
 "nbformat_minor": 2
}
