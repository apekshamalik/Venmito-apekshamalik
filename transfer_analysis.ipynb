{
 "cells": [
  {
   "cell_type": "markdown",
   "metadata": {},
   "source": [
    "# Transfer Analysis"
   ]
  },
  {
   "cell_type": "code",
   "execution_count": 2,
   "metadata": {},
   "outputs": [],
   "source": [
    "import pandas as pd\n",
    "import ipywidgets as widgets\n",
    "from IPython.display import display\n",
    "import matplotlib.pyplot as plt\n",
    "import numpy as np"
   ]
  },
  {
   "cell_type": "code",
   "execution_count": 3,
   "metadata": {},
   "outputs": [],
   "source": [
    "file_path = \"/Users/apeksha/Desktop/Xtillion_Venmito/Venmito-apekshamalik/output_data/transfers_(linked).csv\"\n",
    "transfers_df = pd.read_csv(file_path)"
   ]
  },
  {
   "cell_type": "code",
   "execution_count": 4,
   "metadata": {},
   "outputs": [
    {
     "data": {
      "image/png": "[encoded data removed]",
      "text/plain": [
       "<Figure size 800x500 with 1 Axes>"
      ]
     },
     "metadata": {},
     "output_type": "display_data"
    }
   ],
   "source": [
    "\n",
    "\n",
    "# Generate random sample data\n",
    "categories = ['A', 'B', 'C', 'D', 'E']\n",
    "values = np.random.randint(10, 100, size=5)\n",
    "\n",
    "# Create a simple bar chart\n",
    "plt.figure(figsize=(8, 5))\n",
    "plt.bar(categories, values, color='blue', alpha=0.7)\n",
    "plt.title(\"Sample Bar Chart\")\n",
    "plt.xlabel(\"Categories\")\n",
    "plt.ylabel(\"Values\")\n",
    "plt.show()\n"
   ]
  },
  {
   "cell_type": "code",
   "execution_count": 5,
   "metadata": {},
   "outputs": [
    {
     "data": {
      "application/vnd.jupyter.widget-view+json": {
       "model_id": "a4ad99d2d48d4b68a3a9ebf01969b107",
       "version_major": 2,
       "version_minor": 0
      },
      "text/plain": [
       "interactive(children=(Dropdown(description='Sender Country', options=('USA', 'Canada', 'United Kingdom', 'Unkn…"
      ]
     },
     "metadata": {},
     "output_type": "display_data"
    }
   ],
   "source": [
    "\n",
    "# Sample Data (Replace with your actual DataFrame)\n",
    "# transfers_df = pd.read_csv(\"transfers.csv\")\n",
    "\n",
    "# Dropdown for selecting a sender country\n",
    "sender_dropdown = widgets.Dropdown(\n",
    "    options=transfers_df['sender_country'].unique(),\n",
    "    description=\"Sender Country\",\n",
    "    value=transfers_df['sender_country'].unique()[0]\n",
    ")\n",
    "\n",
    "def update(sender_country):\n",
    "    filtered_df = transfers_df[transfers_df['sender_country'] == sender_country]\n",
    "    summary = filtered_df.groupby('recipient_country')['amount'].sum().sort_values(ascending=False)\n",
    "    \n",
    "    plt.figure(figsize=(10, 5))\n",
    "    summary.plot(kind='bar', color='blue', alpha=0.7)\n",
    "    plt.title(f\"Total Amount Sent from {sender_country}\")\n",
    "    plt.ylabel(\"Amount Transferred\")\n",
    "    plt.xlabel(\"Recipient Country\")\n",
    "    plt.xticks(rotation=45)\n",
    "    plt.show()\n",
    "\n",
    "# Display the interactive dropdown\n",
    "interactive_plot = widgets.interactive(update, sender_country=sender_dropdown)\n",
    "display(interactive_plot)\n"
   ]
  }
 ],
 "metadata": {
  "kernelspec": {
   "display_name": "venv",
   "language": "python",
   "name": "python3"
  },
  "language_info": {
   "codemirror_mode": {
    "name": "ipython",
    "version": 3
   },
   "file_extension": ".py",
   "mimetype": "text/x-python",
   "name": "python",
   "nbconvert_exporter": "python",
   "pygments_lexer": "ipython3",
   "version": "3.12.8"
  }
 },
 "nbformat": 4,
 "nbformat_minor": 2
}
